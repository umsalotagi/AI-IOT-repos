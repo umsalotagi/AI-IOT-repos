{
 "cells": [
  {
   "cell_type": "markdown",
   "metadata": {},
   "source": [
    "At the core of NumPy is the ndarray, where nd stands for n-dimensional. An ndarray is a multidimensional \n",
    "array of elements all of the same type. In other words, an ndarray is a grid that can take on \n",
    "many shapes and can hold either numbers or strings. There are several ways to create ndarrays in NumPy.\n",
    "1. Using regular Python lists\n",
    "2. Using built-in NumPy functions\n",
    "We refer to 1D arrays as rank 1 arrays. In general N-Dimensional arrays have rank N. Therefore, \n",
    "we refer to a 2D array as a rank 2 array.\n",
    "\n",
    "### 1. Using regular Python lists "
   ]
  },
  {
   "cell_type": "code",
   "execution_count": 4,
   "metadata": {},
   "outputs": [],
   "source": [
    "import time\n",
    "import numpy as np"
   ]
  },
  {
   "cell_type": "code",
   "execution_count": 7,
   "metadata": {},
   "outputs": [
    {
     "name": "stdout",
     "output_type": "stream",
     "text": [
      "0.0\n",
      "0.13499975204467773\n"
     ]
    }
   ],
   "source": [
    "# create numpy array\n",
    "x = np.random.random(100000000)\n",
    "\n",
    "# create mean by python\n",
    "start = time.time()\n",
    "# sum(x) / len(x)\n",
    "print(time.time() - start)  # took 8.32 sec to complete\n",
    "\n",
    "# create mena by numpy\n",
    "start = time.time()\n",
    "np.mean(x)\n",
    "print(time.time() - start)  # took 0.14 sec to complete\n",
    "# numpy is way tooooo faster"
   ]
  },
  {
   "cell_type": "code",
   "execution_count": 8,
   "metadata": {},
   "outputs": [
    {
     "name": "stdout",
     "output_type": "stream",
     "text": [
      "[0 1 3 5 7]    x has dimensions: (shape)  (5,)\n",
      "x is an object of type:  <class 'numpy.ndarray'>\n",
      "The elements in x are of type:  int32\n",
      "The array has total number of elements in it : 5\n"
     ]
    }
   ],
   "source": [
    "x = np.array([0, 1, 3, 5, 7])\n",
    "# numpy array as mutable\n",
    "# shape is size of array in each dimension\n",
    "print(x, \"   x has dimensions: (shape) \", x.shape)\n",
    "# type of x is ndarray\n",
    "print(\"x is an object of type: \", type(x))\n",
    "# data type of elements of ndarray can be obtained by dtype attribute\n",
    "# can handle more data-types than Python lists.\n",
    "# ndarray can hold only single data type elements in it.\n",
    "print(\"The elements in x are of type: \", x.dtype)\n",
    "print(\"The array has total number of elements in it :\", x.size)"
   ]
  },
  {
   "cell_type": "code",
   "execution_count": 9,
   "metadata": {},
   "outputs": [
    {
     "name": "stdout",
     "output_type": "stream",
     "text": [
      "['1' '2' 'hello'] (3,) <class 'numpy.ndarray'> <U11 3\n"
     ]
    }
   ],
   "source": [
    "x = np.array([1, 2, \"hello\"])\n",
    "print(x, x.shape, type(x), x.dtype, x.size)\n",
    "# We can see that even though the Python list had mixed data types, the elements in x are all of the same type, namely"
   ]
  },
  {
   "cell_type": "code",
   "execution_count": 11,
   "metadata": {},
   "outputs": [
    {
     "name": "stdout",
     "output_type": "stream",
     "text": [
      "[[ 1.    2.2   3.  ]\n",
      " [ 4.    5.    6.  ]\n",
      " [ 7.    8.8   9.  ]\n",
      " [10.   11.   12.12]] (4, 3) <class 'numpy.ndarray'> float64 12\n"
     ]
    }
   ],
   "source": [
    "# rank 2 ndarray\n",
    "x = np.array([[1, 2.2, 3], [4, 5, 6], [7, 8.8, 9], [10, 11, 12.12]])\n",
    "print(x, x.shape, type(x), x.dtype, x.size)\n",
    "# shape attribute returns the tuple (4,3) telling us that Y is of rank 2 and it has 4 rows and 3 columns.\n",
    "# The .size attribute tells us that Y has a total of 12 elements."
   ]
  },
  {
   "cell_type": "markdown",
   "metadata": {},
   "source": [
    "This is called upcasting. Since all the elements of an ndarray must be of the same type,\n",
    "in this case NumPy upcasts the integers in z to floats in order to avoid losing precision in numerical computations."
   ]
  },
  {
   "cell_type": "code",
   "execution_count": 13,
   "metadata": {},
   "outputs": [
    {
     "name": "stdout",
     "output_type": "stream",
     "text": [
      "[ 2  4  7 89  6] <class 'numpy.ndarray'> int64\n"
     ]
    }
   ],
   "source": [
    "# Numpy assigns data type of elements when we input them\n",
    "#  You can specify the dtype\n",
    "z = np.array([2, 4.5, 7, 89.99, 6.3], dtype=np.int64)\n",
    "print(z, type(z), z.dtype)   # The elements in x are of type: int64\n",
    "# Specifying the data type of the ndarray can be useful in cases when you don't want NumPy to accidentally\n",
    "# choose the wrong data type, or when you only need certain amount of precision\n",
    "# in your calculations and you want to save memory."
   ]
  },
  {
   "cell_type": "code",
   "execution_count": 14,
   "metadata": {},
   "outputs": [
    {
     "name": "stdout",
     "output_type": "stream",
     "text": [
      "\n",
      "\n",
      "loaded from file ... [[ 1.    2.2   3.  ]\n",
      " [ 4.    5.    6.  ]\n",
      " [ 7.    8.8   9.  ]\n",
      " [10.   11.   12.12]] float64 12 (4, 3)\n"
     ]
    }
   ],
   "source": [
    "# you can save np array to file and load it later\n",
    "np.save(\"saved_array_to_file\", x)\n",
    "y = np.load(\"saved_array_to_file.npy\")\n",
    "print(\"\\n\\nloaded from file ...\", y, y.dtype, y.size, y.shape)"
   ]
  },
  {
   "cell_type": "markdown",
   "metadata": {},
   "source": [
    "### 2. Using built-in NumPy functions"
   ]
  },
  {
   "cell_type": "code",
   "execution_count": 15,
   "metadata": {},
   "outputs": [
    {
     "name": "stdout",
     "output_type": "stream",
     "text": [
      "[[0. 0. 0.]\n",
      " [0. 0. 0.]]\n",
      "[[[1 1 1 1]\n",
      "  [1 1 1 1]\n",
      "  [1 1 1 1]]\n",
      "\n",
      " [[1 1 1 1]\n",
      "  [1 1 1 1]\n",
      "  [1 1 1 1]]] 24 int32 (2, 3, 4)\n"
     ]
    }
   ],
   "source": [
    "# creates ndarray of given shape (input tuple x*y*z*... dimension)\n",
    "a = np.zeros((2, 3))\n",
    "print(a)\n",
    "# default dtype of elements is float, we can change it by providing dtype\n",
    "a = np.ones((2, 3, 4), dtype=int)\n",
    "print(a, a.size, a.dtype, a.shape)"
   ]
  },
  {
   "cell_type": "code",
   "execution_count": 16,
   "metadata": {},
   "outputs": [
    {
     "name": "stdout",
     "output_type": "stream",
     "text": [
      "[[4.5 4.5 4.5]\n",
      " [4.5 4.5 4.5]] 6 float64 (2, 3)\n"
     ]
    }
   ],
   "source": [
    "# np.full function will create matrix will all values given by second params (similar to ones, zeros)\n",
    "# with the same data type as the constant value used to fill in the array.\n",
    "a = np.full((2, 3), 4.5)\n",
    "print(a, a.size, a.dtype, a.shape)"
   ]
  },
  {
   "cell_type": "markdown",
   "metadata": {},
   "source": [
    "fundamental array in Linear Algebra is the Identity Matrix. An Identity matrix is a square matrix that has only 1s in its main diagonal and zeros everywhere else. Identity matrix is also diagonal matrix, where values are only on diagonal, and zero elsewhere, a square matrix"
   ]
  },
  {
   "cell_type": "code",
   "execution_count": 17,
   "metadata": {},
   "outputs": [
    {
     "name": "stdout",
     "output_type": "stream",
     "text": [
      "[[1. 0. 0. 0. 0.]\n",
      " [0. 1. 0. 0. 0.]\n",
      " [0. 0. 1. 0. 0.]\n",
      " [0. 0. 0. 1. 0.]\n",
      " [0. 0. 0. 0. 1.]] 25 float64 (5, 5)\n"
     ]
    }
   ],
   "source": [
    "b = np.eye(5)  # as identity matrix is always square matrix\n",
    "print(b, b.size, b.dtype, b.shape)"
   ]
  },
  {
   "cell_type": "code",
   "execution_count": 18,
   "metadata": {},
   "outputs": [
    {
     "name": "stdout",
     "output_type": "stream",
     "text": [
      "[[10  0  0  0]\n",
      " [ 0 20  0  0]\n",
      " [ 0  0 30  0]\n",
      " [ 0  0  0 40]] 16 (4, 4) int32\n"
     ]
    }
   ],
   "source": [
    "# diagonal matrix\n",
    "c = np.diag([10, 20, 30, 40])\n",
    "print(c, c.size, c.shape, c.dtype)"
   ]
  },
  {
   "cell_type": "markdown",
   "metadata": {},
   "source": [
    "to create ndarrays that have evenly spaced values within a given interval.similar to range in python (which creates iterable sequence); it excludes upper limit from calculation. upper limit is exclusive"
   ]
  },
  {
   "cell_type": "code",
   "execution_count": 19,
   "metadata": {},
   "outputs": [
    {
     "name": "stdout",
     "output_type": "stream",
     "text": [
      "[0 1 2 3 4 5 6 7 8 9] 10 (10,) int32\n",
      "[ 4  5  6  7  8  9 10] 7 (7,) int32\n",
      "[1 4 7] 3 (3,) int32\n"
     ]
    }
   ],
   "source": [
    "x = np.arange(10)\n",
    "print(x, x.size, x.shape, x.dtype)\n",
    "x = np.arange(4, 11)\n",
    "print(x, x.size, x.shape, x.dtype)\n",
    "x = np.arange(1, 10, 3)  # here step is 3, which means it is distance between two adjacent values in array\n",
    "print(x, x.size, x.shape, x.dtype)"
   ]
  },
  {
   "cell_type": "markdown",
   "metadata": {},
   "source": [
    "non-integer steps are required, it is usually better to use the function np.linspace(start, stop, N=50)\n",
    "function returns N evenly spaced numbers over the closed interval, both start and stop inclusive"
   ]
  },
  {
   "cell_type": "code",
   "execution_count": 20,
   "metadata": {},
   "outputs": [
    {
     "name": "stdout",
     "output_type": "stream",
     "text": [
      "[ 0.   2.5  5.   7.5 10. ] 5 (5,) float64\n",
      "[ 0.          0.20408163  0.40816327  0.6122449   0.81632653  1.02040816\n",
      "  1.2244898   1.42857143  1.63265306  1.83673469  2.04081633  2.24489796\n",
      "  2.44897959  2.65306122  2.85714286  3.06122449  3.26530612  3.46938776\n",
      "  3.67346939  3.87755102  4.08163265  4.28571429  4.48979592  4.69387755\n",
      "  4.89795918  5.10204082  5.30612245  5.51020408  5.71428571  5.91836735\n",
      "  6.12244898  6.32653061  6.53061224  6.73469388  6.93877551  7.14285714\n",
      "  7.34693878  7.55102041  7.75510204  7.95918367  8.16326531  8.36734694\n",
      "  8.57142857  8.7755102   8.97959184  9.18367347  9.3877551   9.59183673\n",
      "  9.79591837 10.        ] 50 (50,) float64\n"
     ]
    }
   ],
   "source": [
    "b = np.linspace(0, 10, 5)\n",
    "print(b, b.size, b.shape, b.dtype)  # size will always be N\n",
    "# default number of elements in the specified interval will be N= 50.\n",
    "b = np.linspace(0, 10)\n",
    "print(b, b.size, b.shape, b.dtype)  # size will always be N"
   ]
  },
  {
   "cell_type": "markdown",
   "metadata": {},
   "source": [
    "arange uses step between values, where linspace uses number of elements we want in particular interval we can exclude endpoints in linspace by argument endpoint = False"
   ]
  },
  {
   "cell_type": "code",
   "execution_count": 21,
   "metadata": {},
   "outputs": [
    {
     "name": "stdout",
     "output_type": "stream",
     "text": [
      "[ 2.5  5.   7.5 10.  12.5 15.  17.5 20.  22.5 25. ] (10,) float64\n",
      "[ 0.          2.77777778  5.55555556  8.33333333 11.11111111 13.88888889\n",
      " 16.66666667 19.44444444 22.22222222 25.        ] (10,) float64\n",
      "[ 0.   2.5  5.   7.5 10.  12.5 15.  17.5 20.  22.5] (10,) float64\n"
     ]
    }
   ],
   "source": [
    "a = np.linspace(2.5, 25, 10)\n",
    "print(a, a.shape, a.dtype)\n",
    "a = np.linspace(0, 25, 10)\n",
    "print(a, a.shape, a.dtype)\n",
    "a = np.linspace(0, 25, 10, endpoint=False)\n",
    "print(a, a.shape, a.dtype)"
   ]
  },
  {
   "cell_type": "markdown",
   "metadata": {},
   "source": [
    "we have only used the built-in functions np.arange() and np.linspace() to create rank 1 ndarrays. We can create rank 2 array by combining it with reshape()\n",
    "np.reshape(ndarray, new_shape) , new_shape should be compatible with ndarray"
   ]
  },
  {
   "cell_type": "code",
   "execution_count": 22,
   "metadata": {},
   "outputs": [
    {
     "name": "stdout",
     "output_type": "stream",
     "text": [
      "original ndarray : [ 0  1  2  3  4  5  6  7  8  9 10 11 12 13 14 15 16 17 18 19] 20 (20,)\n",
      "ndarray after reshape [[ 0  1  2  3  4]\n",
      " [ 5  6  7  8  9]\n",
      " [10 11 12 13 14]\n",
      " [15 16 17 18 19]] 20 (4, 5)\n",
      "reshape with method  [[ 0  1  2  3  4]\n",
      " [ 5  6  7  8  9]\n",
      " [10 11 12 13 14]\n",
      " [15 16 17 18 19]]\n",
      "rank 2 ndarray with linspace  [[ 0.  5.]\n",
      " [10. 15.]\n",
      " [20. 25.]\n",
      " [30. 35.]\n",
      " [40. 45.]]\n"
     ]
    }
   ],
   "source": [
    "x = np.arange(20)\n",
    "y = np.reshape(x, (4, 5))  # second inout is tuple for new shape\n",
    "print(\"original ndarray :\", x, x.size, x.shape)\n",
    "print(\"ndarray after reshape\", y, y.size, y.shape)\n",
    "print(\"reshape with method \", x.reshape((4, 5)))\n",
    "print(\"rank 2 ndarray with linspace \", np.linspace(0, 50, 10, endpoint=False).reshape((5, 2)))"
   ]
  },
  {
   "cell_type": "markdown",
   "metadata": {},
   "source": [
    "### Random array"
   ]
  },
  {
   "cell_type": "code",
   "execution_count": 23,
   "metadata": {},
   "outputs": [
    {
     "name": "stdout",
     "output_type": "stream",
     "text": [
      "radom ndarray  [[0.36615209 0.42097444 0.61497082 0.58088091 0.46867866]\n",
      " [0.73653539 0.55759112 0.95983696 0.02873054 0.16225788]] float64 10\n"
     ]
    }
   ],
   "source": [
    "# We create a 2 x 5 ndarray with random floats in the half-open interval [0.0, 1.0).\n",
    "x = np.random.random((2, 5))\n",
    "print(\"radom ndarray \", x, x.dtype, x.size)"
   ]
  },
  {
   "cell_type": "code",
   "execution_count": 24,
   "metadata": {},
   "outputs": [
    {
     "name": "stdout",
     "output_type": "stream",
     "text": [
      "random int [start, stop) rank 2 ndarray  [[ 8  8 11 17  7 14]\n",
      " [16 17  8 17 14 14]] int32 12 (2, 6)\n"
     ]
    }
   ],
   "source": [
    "# create ndarrays with random integers within a particular interval  np.random.randint(start, stop, size = shape)\n",
    "# end is exclusive\n",
    "x = np.random.randint(5, 18, (2, 6))\n",
    "print(\"random int [start, stop) rank 2 ndarray \", x, x.dtype, x.size, x.shape)"
   ]
  },
  {
   "cell_type": "markdown",
   "metadata": {},
   "source": [
    "In some cases, you may need to create ndarrays with random numbers that satisfy certain statistical properties. For example, you may want the random numbers in the ndarray to have an average of 0. NumPy allows you create random\n",
    "ndarrays with numbers drawn from various probability distributions.\n",
    "\n",
    "The function np.random.normal(mean, standard deviation, size=shape), for example, creates an ndarray with the given shape that contains random numbers picked from a normal (Gaussian) distribution with the given mean and standard deviation."
   ]
  },
  {
   "cell_type": "code",
   "execution_count": 25,
   "metadata": {},
   "outputs": [
    {
     "name": "stdout",
     "output_type": "stream",
     "text": [
      "[[ 0.05682401 -0.1228124   0.14005236 ... -0.00752091  0.05367195\n",
      "  -0.04600395]\n",
      " [ 0.0408086  -0.02035513  0.0790149  ... -0.0637998  -0.01043516\n",
      "   0.04754993]\n",
      " [-0.02777672 -0.01074251 -0.06664601 ... -0.04382427  0.01115435\n",
      "   0.06902208]\n",
      " ...\n",
      " [-0.09246595 -0.12382967  0.01758373 ...  0.02426526  0.01356994\n",
      "  -0.06910082]\n",
      " [-0.11306558 -0.12282583  0.10991725 ... -0.13046863  0.0147325\n",
      "  -0.23070754]\n",
      " [ 0.05594552 -0.00886304 -0.06087898 ... -0.00962179  0.23524497\n",
      "  -0.11370831]] 2500 (50, 50) float64 <class 'numpy.ndarray'>\n",
      "-0.29759627743856226 0.34703483546219316 0.0014496055001924381 0.10051233045394348 positive and negative number : 1254 1246 <class 'numpy.ndarray'>\n"
     ]
    }
   ],
   "source": [
    "x = np.random.normal(0, 0.1, size=(50, 50))\n",
    "print(x, x.size, x.shape, x.dtype, type(x))\n",
    "print(x.min(), x.max(), x.mean(), x.std(), \"positive and negative number :\", (x < 0).sum(), (x > 0).sum(), type((x<0)))"
   ]
  },
  {
   "cell_type": "markdown",
   "metadata": {},
   "source": [
    "As we can see, the average of the random numbers in the ndarray is close to zero, both the maximum and minimumvalues in X are symmetric about zero (the average), and we have about the same amount of positive and negative numbers."
   ]
  },
  {
   "cell_type": "code",
   "execution_count": 26,
   "metadata": {},
   "outputs": [
    {
     "name": "stdout",
     "output_type": "stream",
     "text": [
      "second  [ True  True  True  True  True False False False False False False]\n"
     ]
    }
   ],
   "source": [
    "p = [0, 1, 2, 3, 4, 5, 6, 7, 8, 9, 10]\n",
    "q = np.array(p)\n",
    "# print(\"calculation \"(p < 5))   gives an error\n",
    "print(\"second \", (q < 5))  # return ndarray o true and false"
   ]
  },
  {
   "cell_type": "code",
   "execution_count": 27,
   "metadata": {},
   "outputs": [
    {
     "name": "stdout",
     "output_type": "stream",
     "text": [
      "[[ 2  4  6  8]\n",
      " [10 12 14 16]\n",
      " [18 20 22 24]\n",
      " [26 28 30 32]]\n"
     ]
    }
   ],
   "source": [
    "# create a 4 x 4 ndarray that only contains consecutive even numbers from 2 to 32 (inclusive)\n",
    "x = np.linspace(2, 32, 16, dtype=int).reshape((4, 4))\n",
    "print(x)"
   ]
  },
  {
   "cell_type": "code",
   "execution_count": null,
   "metadata": {},
   "outputs": [],
   "source": []
  }
 ],
 "metadata": {
  "kernelspec": {
   "display_name": "Python [conda env:condaenv]",
   "language": "python",
   "name": "conda-env-condaenv-py"
  },
  "language_info": {
   "codemirror_mode": {
    "name": "ipython",
    "version": 3
   },
   "file_extension": ".py",
   "mimetype": "text/x-python",
   "name": "python",
   "nbconvert_exporter": "python",
   "pygments_lexer": "ipython3",
   "version": "3.5.6"
  }
 },
 "nbformat": 4,
 "nbformat_minor": 2
}
